{
 "cells": [
  {
   "cell_type": "markdown",
   "metadata": {},
   "source": [
    "# Python kursus for årgang 2018\n",
    "\n",
    "Velkommen til Python\n",
    "\n",
    "## Introduktion til Jupyter Notebook \n",
    "\n",
    "## Markdown\n",
    "\n",
    "Markdown er en måde at markere forskellige sektioner, skriftstørelser, typer og funktioner i et dokument. Markdown er system uafhængigt.\n",
    "\n",
    "Man kan lave noget *kursiv*. Det er også muligt at lave det **fed** og ***fed og kursiv***\n",
    "\n",
    "##### Man kan lave lister\n",
    "- Check liste?\n",
    "    - dsfsdfsdf"
   ]
  },
  {
   "cell_type": "markdown",
   "metadata": {},
   "source": [
    "Og matematik\n",
    "\n",
    "$ 2+3+5+6$"
   ]
  },
  {
   "cell_type": "markdown",
   "metadata": {},
   "source": [
    "## Python for noobs"
   ]
  },
  {
   "cell_type": "markdown",
   "metadata": {},
   "source": [
    "### Variabler\n",
    "\n",
    "I python er der ingen { } der er heller ingen ;. Det hele er baseret på linieskif og indryk (space og tab). Det har både nogen fordele, men også nogle ulemper. Det er viftig at holde sig for øje at det nøjagtige antal *mellemrum/spaces* har indflydelse på det såkaldte **scope**. Mere om det senere.\n",
    "\n",
    "Ydermere kræver Python ikke en specifikation af datatype til variablen."
   ]
  },
  {
   "cell_type": "code",
   "execution_count": 1,
   "metadata": {},
   "outputs": [],
   "source": [
    "#Lad os oprette lidt variabler. Variabler kan hedde HVAD SOM HELST\n",
    "\n",
    "#Variabel der indeholder HELTAL kaldet Int eller Integers på engelsk\n",
    "a = 7\n",
    "hest = 2\n",
    "mor = 10\n",
    "\n",
    "#MEEEEEN brug KUN (A-Z) (a-z) (0-9) og _ ingen mellemrum og må ikke starte med et tal\n",
    "\n",
    "good4you = 5  # Dette er no go\n",
    "\n",
    "g00d = 45 # Dette her er fint\n",
    "\n",
    "\n",
    "#Kald dem noget forståeligt og brugbart som f.eks.\n",
    "\n",
    "antal_hjul = 4\n",
    "health = 100\n",
    "ammo = 30\n",
    "speed = 0\n",
    "\n",
    "#osv. osv. osv.\n",
    "\n",
    "#Variabel der indeholder KOMMATAL kaldes Float på engelsk\n",
    "\n",
    "b = 2.5\n",
    "\n",
    "#Variabel der indeholder TEKST kaldes String på engelsk\n",
    "\n",
    "c = \"Hej\"\n",
    "\n",
    "#Variabel der indeholder Boolske værdier dvs. SANDT/FALSK på engles Bool/Boolean\n",
    "\n",
    "d = False\n",
    "\n",
    "#Pas på vi kan lave rod i det hele\n",
    "\n",
    "#d = \"Hej igen\""
   ]
  },
  {
   "cell_type": "code",
   "execution_count": 2,
   "metadata": {},
   "outputs": [
    {
     "name": "stdout",
     "output_type": "stream",
     "text": [
      "7\n"
     ]
    }
   ],
   "source": [
    "# For at undersøge hvad vi har eller hvad der gemmer sig i forskellige variabler kan vi bruge print().\n",
    "\n",
    "print(a)"
   ]
  },
  {
   "cell_type": "code",
   "execution_count": 3,
   "metadata": {},
   "outputs": [
    {
     "name": "stdout",
     "output_type": "stream",
     "text": [
      "<class 'int'>\n",
      "<class 'float'>\n",
      "<class 'str'>\n",
      "<class 'bool'>\n"
     ]
    }
   ],
   "source": [
    "# Ofte har vi brug for at se præcist hvilken type en variabel er. Til dette kan vi bruge funktionen type().\n",
    "\n",
    "print(type(a))\n",
    "print(type(b))\n",
    "print(type(c))\n",
    "print(type(d))"
   ]
  },
  {
   "cell_type": "markdown",
   "metadata": {},
   "source": [
    "## Kontrolstrukturer"
   ]
  },
  {
   "cell_type": "code",
   "execution_count": 4,
   "metadata": {},
   "outputs": [
    {
     "name": "stdout",
     "output_type": "stream",
     "text": [
      "Mor er stor\n"
     ]
    }
   ],
   "source": [
    "# Hvis noget så gør vi noget\n",
    "\n",
    "if mor > 90:\n",
    "    #så gør vi noget her!!!\n",
    "    print(\"Jeg kører\")\n",
    "    \n",
    "elif mor == 56:\n",
    "    print(\"ok\")\n",
    "    \n",
    "else: \n",
    "    print(\"Mor er stor\")\n",
    "    \n",
    "    \n",
    "    \n",
    "    \n",
    "a = 2    \n",
    "    \n",
    "    \n",
    "\n",
    "    \n",
    "    \n",
    "\n",
    "#if(condition????){\n",
    "    #do something\n",
    "#}"
   ]
  },
  {
   "cell_type": "code",
   "execution_count": null,
   "metadata": {},
   "outputs": [],
   "source": []
  }
 ],
 "metadata": {
  "kernelspec": {
   "display_name": "Python 3",
   "language": "python",
   "name": "python3"
  },
  "language_info": {
   "codemirror_mode": {
    "name": "ipython",
    "version": 3
   },
   "file_extension": ".py",
   "mimetype": "text/x-python",
   "name": "python",
   "nbconvert_exporter": "python",
   "pygments_lexer": "ipython3",
   "version": "3.7.2"
  }
 },
 "nbformat": 4,
 "nbformat_minor": 2
}
